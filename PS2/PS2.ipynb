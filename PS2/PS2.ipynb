{
 "cells": [
  {
   "cell_type": "code",
   "execution_count": 1,
   "metadata": {
    "ExecuteTime": {
     "end_time": "2021-09-25T01:30:23.430951Z",
     "start_time": "2021-09-25T01:30:21.665637Z"
    }
   },
   "outputs": [],
   "source": [
    "import numpy as np\n",
    "import matplotlib.pyplot as plt\n",
    "from scipy import integrate"
   ]
  },
  {
   "cell_type": "markdown",
   "metadata": {},
   "source": [
    "## Question 1"
   ]
  },
  {
   "cell_type": "markdown",
   "metadata": {},
   "source": [
    "There is in fact a singularity in the integral, but neither the integrator used or the quad function care."
   ]
  },
  {
   "cell_type": "code",
   "execution_count": 2,
   "metadata": {
    "ExecuteTime": {
     "end_time": "2021-09-25T01:30:27.315348Z",
     "start_time": "2021-09-25T01:30:24.907545Z"
    }
   },
   "outputs": [
    {
     "name": "stderr",
     "output_type": "stream",
     "text": [
      "//anaconda3/lib/python3.7/site-packages/numpy/core/shape_base.py:65: VisibleDeprecationWarning: Creating an ndarray from ragged nested sequences (which is a list-or-tuple of lists-or-tuples-or ndarrays with different lengths or shapes) is deprecated. If you meant to do this, you must specify 'dtype=object' when creating the ndarray.\n",
      "  ary = asanyarray(ary)\n"
     ]
    },
    {
     "data": {
      "image/png": "[encoded data removed]",
      "text/plain": [
       "<Figure size 432x288 with 1 Axes>"
      ]
     },
     "metadata": {
      "needs_background": "light"
     },
     "output_type": "display_data"
    }
   ],
   "source": [
    "def class_integrate_adaptive(fun,x0,x1,tol):\n",
    "    # integrate_adaptive function taken from lecture notes\n",
    "    counter = 0 # set up counter for question 2 since I'll be using this function to compare\n",
    "    x=np.linspace(x0,x1,5)\n",
    "    y=fun(x)\n",
    "    counter += 5\n",
    "    dx=(x1-x0)/(len(x)-1)\n",
    "    area1=2*dx*(y[0]+4*y[2]+y[4])/3 #coarse step\n",
    "    area2=dx*(y[0]+4*y[1]+2*y[2]+4*y[3]+y[4])/3 #finer step\n",
    "    err=np.abs(area1-area2)\n",
    "    if err<tol:\n",
    "        return area2, counter\n",
    "    else:\n",
    "        xmid=(x0+x1)/2\n",
    "        left, leftcounter=class_integrate_adaptive(fun,x0,xmid,tol/2)\n",
    "        right, rightcounter=class_integrate_adaptive(fun,xmid,x1,tol/2)\n",
    "        return left+right, counter + leftcounter + rightcounter\n",
    "\n",
    "R = 1\n",
    "sigma = 1\n",
    "eps = 1\n",
    "\n",
    "def f(x, z): \n",
    "    # the integral we're integrating\n",
    "    return 1/(2*eps)*(sigma*R**2*np.sin(x)*(z-R*np.cos(x)))*(R**2+z**2-2*R*z*np.cos(x))**(-3/2)\n",
    "\n",
    "def get_integral(f):\n",
    "    results1 = []\n",
    "    results2 = []\n",
    "    int1 = integrate.quad(f, 0, np.pi)\n",
    "    int2 = class_integrate_adaptive(f, 0, np.pi, 1e-09)\n",
    "    results1.append(int1[0])\n",
    "    results2.append(int2[0])\n",
    "    results1 = np.array(results1, dtype = object)\n",
    "    results2 = np.array(results2, dtype = object)\n",
    "    return np.ndarray.flatten(results1), np.ndarray.flatten(results2)\n",
    "\n",
    "z = np.linspace(0, 5, 100)\n",
    "\n",
    "y1 = []\n",
    "y2 = []\n",
    "for i in z:\n",
    "    if i < R:\n",
    "        y1.append(0)\n",
    "        y2.append(0)\n",
    "    else:\n",
    "        y1.append(get_integral(lambda x: f(x,i))[0])\n",
    "        y2.append(get_integral(lambda x: f(x,i))[1])\n",
    "        \n",
    "plt.plot(z, y1, '-', label = 'quad') # the dots overlap perfectly with the adaptive so I use lines instead\n",
    "plt.plot(z, y2, '.', label = 'adaptive')\n",
    "plt.legend()\n",
    "plt.show()"
   ]
  },
  {
   "cell_type": "markdown",
   "metadata": {
    "ExecuteTime": {
     "end_time": "2021-09-24T20:21:30.223392Z",
     "start_time": "2021-09-24T20:21:30.218171Z"
    }
   },
   "source": [
    "## Question 2"
   ]
  },
  {
   "cell_type": "code",
   "execution_count": 3,
   "metadata": {
    "ExecuteTime": {
     "end_time": "2021-09-25T01:30:27.331016Z",
     "start_time": "2021-09-25T01:30:27.318425Z"
    }
   },
   "outputs": [],
   "source": [
    "def integrate_adaptive(fun,x0,x1,tol, extra = None):\n",
    "    # We use extra to pass function evaluations already ran to the subcalls\n",
    "    counter = 0 # set up counter to count the number of function evaluations\n",
    "    if extra is None: # things we only want to run in the first instance\n",
    "        y0 = fun(x0)\n",
    "        y1 = fun(x1)\n",
    "        xmid = (x1+x0)/2\n",
    "        ymid=fun(xmid)\n",
    "        counter += 3\n",
    "    else: # unpacking stuff from previous call\n",
    "        y0, xmid, ymid, y1 = extra[0], extra[1], extra[2], extra[3]\n",
    "    \n",
    "    xleftmid = (x0+xmid)/2\n",
    "    xrightmid = (xmid+x1)/2\n",
    "    yleftmid = fun(xleftmid)\n",
    "    yrightmid = fun(xrightmid)\n",
    "    counter += 2\n",
    "    \n",
    "    area = (x1-x0)/6 * (y0+4*ymid+y1)\n",
    "    leftarea = (xmid-x0)/6 * (y0+4*yleftmid+ymid)\n",
    "    rightarea = (x1-xmid)/6 * (ymid+4*yrightmid+y1)\n",
    "    area2 = leftarea + rightarea\n",
    "    err=np.abs(area-area2)\n",
    "    if err<tol:\n",
    "        return area2, counter\n",
    "    else:\n",
    "        left, leftcounter = integrate_adaptive(fun,x0,xmid,tol/2, extra = (y0, xleftmid, yleftmid, ymid))\n",
    "        right, rightcounter = integrate_adaptive(fun,xmid,x1,tol/2, extra = (ymid, xrightmid, yrightmid, y1))\n",
    "        return left+right, counter + leftcounter + rightcounter"
   ]
  },
  {
   "cell_type": "code",
   "execution_count": 4,
   "metadata": {
    "ExecuteTime": {
     "end_time": "2021-09-25T01:30:27.383525Z",
     "start_time": "2021-09-25T01:30:27.343296Z"
    }
   },
   "outputs": [
    {
     "name": "stdout",
     "output_type": "stream",
     "text": [
      "We save 594 function calls evaluating x^5 from 0 to 1 at 1e-9 threshold\n",
      "We save 168 function calls evaluating sin(x) from 0 to 1 at 1e-9 threshold\n"
     ]
    }
   ],
   "source": [
    "def poly(x):\n",
    "    return x**5\n",
    "\n",
    "print('We save', class_integrate_adaptive(poly, 0, 1, 1e-9)[1]-integrate_adaptive(poly, 0, 1, 1e-9)[1], \\\n",
    "      'function calls evaluating x^5 from 0 to 1 at 1e-9 threshold')\n",
    "print('We save', class_integrate_adaptive(np.sin, 0, 1, 1e-9)[1]-integrate_adaptive(np.sin, 0, 1, 1e-9)[1], \\\n",
    "      'function calls evaluating sin(x) from 0 to 1 at 1e-9 threshold')"
   ]
  },
  {
   "cell_type": "markdown",
   "metadata": {},
   "source": [
    "## Question 3"
   ]
  },
  {
   "cell_type": "markdown",
   "metadata": {},
   "source": [
    "Following the question we scale (0.5, 1) to (-1, 1) for the fit. Since the 7th coefficient of the fit was on the order e-7, we take only the first 7 coefficients. We break down x-values using np.frexp(x) to get the mantissa which has values between (0.5, 1) and exponent values which are over base 2. We apply the same scaling as we did in the original fit on the mantissa values and apply simple log laws to get natural log from log base 2.\n",
    "<br>\n",
    "$ln(x) = \\frac{log_2(x)}{log_2(e)}$ and $log_2(mantissa \\times 2^{exp}) = log_2(mantissa) + exp$"
   ]
  },
  {
   "cell_type": "code",
   "execution_count": 5,
   "metadata": {
    "ExecuteTime": {
     "end_time": "2021-09-25T01:30:28.900993Z",
     "start_time": "2021-09-25T01:30:28.889947Z"
    },
    "scrolled": true
   },
   "outputs": [],
   "source": [
    "def mylog2(x):\n",
    "    xx = np.linspace(0.5,1,100)\n",
    "    x_scaled = np.interp(xx, (0.5, 1), (-1, +1))\n",
    "    fit = np.polynomial.chebyshev.chebfit(x_scaled, np.log2(xx), 20)\n",
    "    mantx, expx = np.frexp(x)\n",
    "    mante, expe = np.frexp(np.e)\n",
    "    mantx_scaled = np.interp(mantx, (0.5, 1), (-1, +1))\n",
    "    mante_scaled = np.interp(mante, (0.5, 1), (-1, +1))\n",
    "    log2x = np.polynomial.chebyshev.chebval(mantx_scaled, fit[0:8]) + expx\n",
    "    log2e = np.polynomial.chebyshev.chebval(mante_scaled, fit[0:8]) + expe\n",
    "    return log2x/log2e"
   ]
  },
  {
   "cell_type": "code",
   "execution_count": 7,
   "metadata": {
    "ExecuteTime": {
     "end_time": "2021-09-25T01:30:46.269694Z",
     "start_time": "2021-09-25T01:30:46.109637Z"
    }
   },
   "outputs": [
    {
     "data": {
      "image/png": "[encoded data removed]",
      "text/plain": [
       "<Figure size 432x288 with 1 Axes>"
      ]
     },
     "metadata": {
      "needs_background": "light"
     },
     "output_type": "display_data"
    },
    {
     "name": "stdout",
     "output_type": "stream",
     "text": [
      "[ 1.49991163e-07  3.88751956e-08 -6.72177591e-08  1.28208733e-08\n",
      " -2.56156381e-08 -1.66395732e-07 -2.62733351e-08  1.77178199e-07\n",
      " -1.42729716e-07 -5.85444734e-08  2.04373047e-07  1.38277594e-07\n",
      " -1.00513109e-07 -1.73447665e-08  2.30927553e-07 -4.96902404e-08\n",
      " -5.25957923e-08 -2.12291557e-08  2.48247324e-07  2.73076831e-07\n",
      "  1.13606630e-07 -4.94739734e-08 -9.72865042e-08 -1.55655527e-08\n",
      "  1.32717175e-07  2.59172378e-07  2.97848379e-07  2.33665895e-07\n",
      "  1.05757820e-07 -1.25020065e-08 -4.92587859e-08  2.62486886e-08\n",
      "  1.75754218e-07  2.93868663e-07  2.60195371e-07  6.37660165e-08\n",
      "  2.33015665e-08  8.54963267e-08 -7.12647055e-08  1.88213654e-08\n",
      "  1.74404892e-07  3.01123041e-07  3.61710456e-07  3.53756349e-07\n",
      "  2.93603812e-07  2.05132310e-07  1.12370731e-07  3.50628830e-08\n",
      " -1.35446698e-08 -2.72965799e-08 -6.60112986e-09  4.28143963e-08\n",
      "  1.11539927e-07  1.88253104e-07  2.61425581e-07  3.20817625e-07\n",
      "  3.58657712e-07  3.70442380e-07  3.55325123e-07  3.16092538e-07\n",
      "  2.58751636e-07  1.91774869e-07  1.25069284e-07  6.87537853e-08\n",
      "  3.18439768e-08  2.09577748e-08  3.91671553e-08  8.51322055e-08\n",
      "  1.52663282e-07  2.30865631e-07  3.05028522e-07  3.58427749e-07\n",
      "  3.75216536e-07  3.44585340e-07  2.66376030e-07  1.58340340e-07\n",
      "  6.52365104e-08  6.99616449e-08  3.06920577e-07  1.99104297e-07\n",
      "  4.94159722e-08  1.07392761e-09  1.88327132e-08  7.55481975e-08\n",
      "  1.50839186e-07  2.29915034e-07  3.02553011e-07  3.62210587e-07\n",
      "  4.05259058e-07  4.30326064e-07  4.37735647e-07  4.29035418e-07\n",
      "  4.06601324e-07  3.73311309e-07  3.32279900e-07  2.86646449e-07\n",
      "  2.39410411e-07  1.93307574e-07  1.50721753e-07  1.13626916e-07]\n"
     ]
    }
   ],
   "source": [
    "x = np.linspace(0.5, 10, 100)\n",
    "plt.plot(x, mylog2(x), '.', label = 'routine')\n",
    "plt.plot(x, np.log(x), '-', label = 'true')\n",
    "plt.legend()\n",
    "plt.show()\n",
    "print(mylog2(x)-np.log(x))"
   ]
  },
  {
   "cell_type": "code",
   "execution_count": null,
   "metadata": {},
   "outputs": [],
   "source": []
  }
 ],
 "metadata": {
  "kernelspec": {
   "display_name": "Python 3",
   "language": "python",
   "name": "python3"
  },
  "language_info": {
   "codemirror_mode": {
    "name": "ipython",
    "version": 3
   },
   "file_extension": ".py",
   "mimetype": "text/x-python",
   "name": "python",
   "nbconvert_exporter": "python",
   "pygments_lexer": "ipython3",
   "version": "3.7.3"
  }
 },
 "nbformat": 4,
 "nbformat_minor": 2
}
