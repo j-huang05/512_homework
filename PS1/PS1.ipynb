{
 "cells": [
  {
   "cell_type": "code",
   "execution_count": 130,
   "metadata": {
    "ExecuteTime": {
     "end_time": "2021-09-17T19:21:29.205163Z",
     "start_time": "2021-09-17T19:21:28.567542Z"
    }
   },
   "outputs": [],
   "source": [
    "import numpy as np\n",
    "import matplotlib.pyplot as plt\n",
    "from scipy import interpolate"
   ]
  },
  {
   "cell_type": "markdown",
   "metadata": {},
   "source": [
    "## Problem 1 \n",
    "\n",
    "\n",
    "$f'(x \\pm \\delta) \\approx f(x)\\pm\\delta f'(x)+\\frac{\\delta^2}{2}f''(x)\\pm\\frac{\\delta^3}{3!}f'''(x)+\\frac{\\delta^4}{4!}f^{(4)}(x)\\pm\\frac{\\delta^5}{5!} f^{(5)}(x)$  \n",
    "$f'(x \\pm 2\\delta) \\approx f(x) \\pm (2\\delta) f'(x)+\\frac{(2\\delta)^2}{2}f''(x)\\pm\\frac{(2\\delta)^3}{3!}f'''(x)+\\frac{(2\\delta)^4}{4!}f^{(4)}(x)\\pm\\frac{(2\\delta)^5}{5!} f^{(5)}(x)$  \n",
    "$f(x+\\delta)-f(x-\\delta)=2\\delta f'(x) + \\frac{2}{6}\\delta^3f'''(x) + \\frac{2}{120}\\delta^5 f^{(5)}(x)$\n",
    "<br>\n",
    "$f(x+2\\delta)-f(x-2\\delta)=4\\delta f'(x) + \\frac{16}{6}\\delta^3f'''(x) + \\frac{64}{120}\\delta^5 f^{(5)}(x)$\n",
    "<br>\n",
    "$f'(x)-\\frac{1}{30}\\delta^4f^{(5)}(x) = \\large\\frac{8f(x+2\\delta)-8f(x-2\\delta)-f(x+\\delta)-f(x-\\delta)}{12\\delta}$\n",
    "<br>\n",
    "Error $= \\frac{1}{30}\\delta^4f^{(5)}(x) + \\frac{f(x)}{\\delta}\\epsilon_m$\n",
    "<br>\n",
    "Differentiating Error: $\\delta = (\\large\\frac{15f(x)}{2f^{(5)}(x)}\\epsilon_m)^{\\frac{1}{5}}$"
   ]
  },
  {
   "cell_type": "code",
   "execution_count": 286,
   "metadata": {
    "ExecuteTime": {
     "end_time": "2021-09-17T23:22:37.744353Z",
     "start_time": "2021-09-17T23:22:36.744097Z"
    }
   },
   "outputs": [
    {
     "name": "stdout",
     "output_type": "stream",
     "text": [
      "f(x) = exp(x) has error -2.8703652787953615e-09 and dx of  0.0009440875112949016\n",
      "f(x) = exp(0.01x) has error 4.0072112295064244e-16 and dx of  0.09440875112949018\n"
     ]
    },
    {
     "data": {
      "image/png": "[encoded data removed]",
      "text/plain": [
       "<Figure size 432x288 with 1 Axes>"
      ]
     },
     "metadata": {
      "needs_background": "light"
     },
     "output_type": "display_data"
    },
    {
     "data": {
      "image/png": "[encoded data removed]",
      "text/plain": [
       "<Figure size 432x288 with 1 Axes>"
      ]
     },
     "metadata": {
      "needs_background": "light"
     },
     "output_type": "display_data"
    }
   ],
   "source": [
    "def get_deriv(func, delta, x, func_first, func_fifth):\n",
    "    eps = 10**-16\n",
    "    if delta is None:\n",
    "        delta = (15/2 * func(x)/func_fifth(x) * eps)**(1/5)\n",
    "    deriv = 1/(12*delta)*(8*func(x+delta)-8*func(x-delta)+func(x-2*delta)-func(x+2*delta))\n",
    "    return deriv - func_first(x), delta\n",
    "\n",
    "def exp2(x):\n",
    "    return np.exp(0.01*x)\n",
    "def first_exp2(x):\n",
    "    return 0.01*np.exp(0.01*x)\n",
    "def fifth_exp2(x):\n",
    "    return 0.01**5*np.exp(0.01*x)\n",
    "\n",
    "\n",
    "f1 = get_deriv(np.exp, None, 10, np.exp, np.exp)\n",
    "f2 = get_deriv(exp2, None, 10, first_exp2, fifth_exp2)\n",
    "\n",
    "print('f(x) = exp(x) has error', f1[0], 'and dx of ', f1[1])\n",
    "print('f(x) = exp(0.01x) has error', f2[0], 'and dx of ', f2[1])\n",
    "\n",
    "deltas = np.logspace(-8, 1, num=50)\n",
    "y = []\n",
    "for i in range(len(deltas)):\n",
    "    y.append(abs(get_deriv(np.exp, deltas[i], 10, np.exp, np.exp)[0]))\n",
    "plt.yscale('log')\n",
    "plt.xscale('log')\n",
    "plt.plot(deltas, y, '-')\n",
    "\n",
    "plt.show()\n",
    "\n",
    "y2 = []\n",
    "for i in range(len(deltas)):\n",
    "    y2.append(abs(get_deriv(exp2, deltas[i], 10, first_exp2, fifth_exp2)[0]))\n",
    "plt.yscale('log')\n",
    "plt.xscale('log')\n",
    "plt.plot(deltas, y2, '-')\n",
    "\n",
    "plt.show()"
   ]
  },
  {
   "cell_type": "markdown",
   "metadata": {},
   "source": [
    "# Problem 2\n"
   ]
  },
  {
   "cell_type": "markdown",
   "metadata": {},
   "source": [
    "Error $= \\frac{1}{6}\\delta^2f^{(3)}(x) + \\frac{1}{\\delta}f(x)\\epsilon_m$\n",
    "Differentiating to minimize error: $\\delta = (3\\frac{f(x)}{f^{(3}(x)}\\epsilon_m)^{\\frac{1}{3}}$\n",
    "<br>\n",
    "We approximate $\\frac{f(x)}{f^{(3}(x)} \\approx 1$\n",
    "<br>\n",
    "Plugging our optimized $\\delta$ back into our Error:\n",
    "<br>\n",
    "Error = $(\\frac{1}{6}3^{\\frac{2}{3}} + 3^{\\frac{-1}{3}})\\epsilon_m^{\\frac{2}{3}} \\approx \\epsilon_m^{\\frac{2}{3}}$"
   ]
  },
  {
   "cell_type": "code",
   "execution_count": 287,
   "metadata": {
    "ExecuteTime": {
     "end_time": "2021-09-17T23:22:46.052601Z",
     "start_time": "2021-09-17T23:22:46.044968Z"
    }
   },
   "outputs": [],
   "source": [
    "def ndiff(fun, x, full=False):\n",
    "    dx = 10**-(16/3)\n",
    "    eps = 10**-16\n",
    "    if full == False:\n",
    "        deriv = (fun(x+dx) - fun(x-dx))/(2*dx)\n",
    "        return deriv\n",
    "    if full == True:\n",
    "        deriv = (fun(x+dx) - fun(x-dx))/(2*dx)\n",
    "        error = eps**(2/3)\n",
    "        return deriv, dx, error\n"
   ]
  },
  {
   "cell_type": "markdown",
   "metadata": {},
   "source": [
    "# Problem 3"
   ]
  },
  {
   "cell_type": "markdown",
   "metadata": {},
   "source": [
    "Here I choose to use a Linear Interpolator to interpolate for temperature values given voltages using lakeshore.txt data. To estimate the error, I ran another interpolation (the choice being polyfit) and took the differences between the results for temperature that the 2 different interpolations outputed as a rough estimate for the error."
   ]
  },
  {
   "cell_type": "code",
   "execution_count": 288,
   "metadata": {
    "ExecuteTime": {
     "end_time": "2021-09-17T23:22:49.489804Z",
     "start_time": "2021-09-17T23:22:49.473003Z"
    }
   },
   "outputs": [
    {
     "data": {
      "text/plain": [
       "(325.7454310900881, -0.0036063721148593686)"
      ]
     },
     "execution_count": 288,
     "metadata": {},
     "output_type": "execute_result"
    }
   ],
   "source": [
    "dat = np.loadtxt('lakeshore.txt')\n",
    "def lakeshore(V, data):\n",
    "    T, Volts = data[:,0], data[:,1]\n",
    "    Volts = np.flip(Volts)\n",
    "    T = np.flip(T)\n",
    "    y1 = np.interp(V, xp = Volts, fp = T) # Linear Interpolator\n",
    "    \n",
    "    if type(V) == isinstance(V,int) or isinstance(V,float): # for a single V input\n",
    "        ind = np.argwhere(np.array(Volts)>V)[0][0]\n",
    "        x = Volts[ind-1:ind+3]\n",
    "        y = T[ind-1:ind+3]\n",
    "        p = np.polyfit(x, y, 3) # Cubic Interpolator\n",
    "        y2 = np.polyval(p,V)\n",
    "        \n",
    "    else: # for an array of V inputs\n",
    "        y2 = np.empty(len(V))\n",
    "        for i in range(len(V)):\n",
    "            ind = np.argwhere(np.array(Volts)>V[i])[0][0]\n",
    "            x = Volts[ind-1:ind+3]\n",
    "            y = T[ind-1:ind+3]\n",
    "            p = np.polyfit(x, y, 3) # Cubic Interpolator\n",
    "            y2[i] = np.polyval(p,V[i])\n",
    "            \n",
    "    error = y1 - y2\n",
    "    \n",
    "    return y1, error\n",
    "\n",
    "lakeshore(0.5, dat)"
   ]
  },
  {
   "cell_type": "markdown",
   "metadata": {},
   "source": [
    "# Problem 4"
   ]
  },
  {
   "cell_type": "markdown",
   "metadata": {},
   "source": [
    "We expect the error of our rational function fit to be approximately on the order of machine error. As order (n,m) were changed, the rational function fit did indeed output similar errors on the order of $10^{(-16)}$ as we expected. \n",
    "<br>\n",
    "Switching from np.linalg.inv to np.linalg.pinv prevents the coefficients from blowing up when inverting the matrix. We can see by looking at the matrix and p,q values after using inv vs pinv that the p,q arrays for inv blow up and give us non-zero coefficients for polynomial terms we don't want, where as pinv sets those very small terms to 0 in the invert leaving only non-zero coefficients of the terms we want."
   ]
  },
  {
   "cell_type": "code",
   "execution_count": 328,
   "metadata": {
    "ExecuteTime": {
     "end_time": "2021-09-18T00:33:44.953471Z",
     "start_time": "2021-09-18T00:33:44.944811Z"
    }
   },
   "outputs": [],
   "source": [
    "def PolyInterp(func, x):\n",
    "    y = func(x)\n",
    "    for i in range(len(xx)):\n",
    "        ind=(xx[i]-x[0])/dx\n",
    "        ind=int(np.floor(ind))\n",
    "        x_use=x[ind-1:ind+3]\n",
    "        y_use=y[ind-1:ind+3]\n",
    "        p=np.polyfit(x_use,y_use,2)\n",
    "        yy[i]=np.polyval(p,xx[i])\n",
    "        \n",
    "    plt.plot(xx, yy, '-', label = 'Polynomial')\n",
    "    plt.plot(xx, y_true, '-', label = 'True Function')\n",
    "    error = yy - y_true\n",
    "    \n",
    "    return error\n",
    "\n",
    "def CubicSpline(func, x):\n",
    "    y = func(x)\n",
    "    spln=interpolate.splrep(x,y)\n",
    "    yy=interpolate.splev(xx,spln)\n",
    "    \n",
    "    plt.plot(xx, yy, '-', label = 'Cubic Spline')\n",
    "    #plt.plot(xx, y_true, '-')\n",
    "    error = yy - y_true\n",
    "    \n",
    "    return error\n",
    "            "
   ]
  },
  {
   "cell_type": "code",
   "execution_count": 436,
   "metadata": {
    "ExecuteTime": {
     "end_time": "2021-09-18T02:02:23.228926Z",
     "start_time": "2021-09-18T02:02:23.218323Z"
    }
   },
   "outputs": [],
   "source": [
    "def Rational(func, x):\n",
    "    def rat_eval(p,q,x):\n",
    "        top=0\n",
    "        for i in range(len(p)):\n",
    "            top=top+p[i]*x**i\n",
    "        bot=1\n",
    "        for i in range(len(q)):\n",
    "            bot=bot+q[i]*x**(i+1)\n",
    "        return top/bot\n",
    "    \n",
    "    def rat_fit(x,y,n,m):\n",
    "        assert(len(x)==n+m-1)\n",
    "        assert(len(y)==len(x))\n",
    "        mat=np.zeros([n+m-1,n+m-1])\n",
    "        for i in range(n):\n",
    "            mat[:,i]=x**i\n",
    "        for i in range(1,m):\n",
    "            mat[:,i-1+n]=-y*x**i\n",
    "        pars=np.dot(np.linalg.pinv(mat),y)\n",
    "        p=pars[:n]\n",
    "        q=pars[n:]\n",
    "        return p,q\n",
    "    n = 4\n",
    "    m = 5\n",
    "\n",
    "    y = func(x)\n",
    "    p, q = rat_fit(x,y,n,m)\n",
    "    pred = rat_eval(p,q,xx)\n",
    "    fitp = np.polyfit(x,y,n+m-1)\n",
    "    pred_poly = np.polyval(fitp,xx)\n",
    "    \n",
    "    yy_interp = rat_eval(p,q,xx)\n",
    "    plt.plot(xx, pred, label = 'Rational')\n",
    "\n",
    "    error = pred - y_true\n",
    "    return error"
   ]
  },
  {
   "cell_type": "code",
   "execution_count": 437,
   "metadata": {
    "ExecuteTime": {
     "end_time": "2021-09-18T02:02:28.802280Z",
     "start_time": "2021-09-18T02:02:28.587578Z"
    }
   },
   "outputs": [
    {
     "name": "stderr",
     "output_type": "stream",
     "text": [
      "//anaconda3/lib/python3.7/site-packages/ipykernel_launcher.py:9: RankWarning: Polyfit may be poorly conditioned\n",
      "  if __name__ == '__main__':\n"
     ]
    },
    {
     "data": {
      "text/plain": [
       "<matplotlib.legend.Legend at 0xb1d36c860>"
      ]
     },
     "execution_count": 437,
     "metadata": {},
     "output_type": "execute_result"
    },
    {
     "data": {
      "image/png": "[encoded data removed]",
      "text/plain": [
       "<Figure size 432x288 with 1 Axes>"
      ]
     },
     "metadata": {
      "needs_background": "light"
     },
     "output_type": "display_data"
    }
   ],
   "source": [
    "x = np.linspace(-np.pi/2, np.pi/2, 8)\n",
    "xx=np.linspace(x[2],x[-3], 8)\n",
    "dx=x[1]-x[0]\n",
    "yy=np.empty(len(xx))\n",
    "y_true = np.cos(xx)\n",
    "\n",
    "PolyInterp(np.cos, x)\n",
    "CubicSpline(np.cos, x)\n",
    "Rational(np.cos, x)\n",
    "plt.legend()"
   ]
  },
  {
   "cell_type": "code",
   "execution_count": 438,
   "metadata": {
    "ExecuteTime": {
     "end_time": "2021-09-18T02:02:39.689353Z",
     "start_time": "2021-09-18T02:02:39.507677Z"
    }
   },
   "outputs": [
    {
     "name": "stderr",
     "output_type": "stream",
     "text": [
      "//anaconda3/lib/python3.7/site-packages/ipykernel_launcher.py:12: RankWarning: Polyfit may be poorly conditioned\n",
      "  if sys.path[0] == '':\n"
     ]
    },
    {
     "data": {
      "text/plain": [
       "array([-4.44089210e-16, -4.44089210e-16, -1.11022302e-16, -5.55111512e-16,\n",
       "       -5.55111512e-16, -1.11022302e-16, -3.33066907e-16, -4.44089210e-16])"
      ]
     },
     "execution_count": 438,
     "metadata": {},
     "output_type": "execute_result"
    },
    {
     "data": {
      "image/png": "[encoded data removed]",
      "text/plain": [
       "<Figure size 432x288 with 1 Axes>"
      ]
     },
     "metadata": {
      "needs_background": "light"
     },
     "output_type": "display_data"
    }
   ],
   "source": [
    "def Lorentz(x):\n",
    "    return 1/(1+x**2)\n",
    "\n",
    "x = np.linspace(-1, 1, 8)\n",
    "xx=np.linspace(x[2],x[-3], 8)\n",
    "yy=np.empty(len(xx))\n",
    "dx=x[1]-x[0]\n",
    "y_true = Lorentz(xx)\n",
    "\n",
    "PolyInterp(Lorentz, x)\n",
    "CubicSpline(Lorentz, x)\n",
    "Rational(Lorentz, x)\n",
    "plt.legend()"
   ]
  }
 ],
 "metadata": {
  "kernelspec": {
   "display_name": "Python 3",
   "language": "python",
   "name": "python3"
  },
  "language_info": {
   "codemirror_mode": {
    "name": "ipython",
    "version": 3
   },
   "file_extension": ".py",
   "mimetype": "text/x-python",
   "name": "python",
   "nbconvert_exporter": "python",
   "pygments_lexer": "ipython3",
   "version": "3.7.3"
  }
 },
 "nbformat": 4,
 "nbformat_minor": 2
}
